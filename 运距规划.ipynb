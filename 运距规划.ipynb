{
 "cells": [
  {
   "cell_type": "markdown",
   "metadata": {},
   "source": [
    "# 代码测试\n",
    "Pulp包需要第三方下载\n",
    "-pip install pulp"
   ]
  },
  {
   "cell_type": "code",
   "execution_count": 3,
   "metadata": {
    "scrolled": false
   },
   "outputs": [],
   "source": [
    "#算法部分，使用pulp内置cdc求解器\n",
    "import pulp\n",
    "import numpy as np\n",
    "import pandas as pd\n",
    "class ILP():\n",
    "    def __init__(self,c,T,S):\n",
    "        #输入说明\n",
    "        #T:饲料厂产量\n",
    "        #S:养殖场需求\n",
    "        #l：距离矩阵\n",
    "        self.T = T\n",
    "        self.S = S\n",
    "        self.row = len(self.T)\n",
    "        self.col = len(self.S)\n",
    "        self.c = np.array(c).reshape(self.row,self.col)\n",
    "        \n",
    "    def solve(self):\n",
    "        row = len(self.T) #饲料厂个数\n",
    "        col = len(self.S) #养殖场个数\n",
    "        \n",
    "        prob = pulp.LpProblem('运输配给优化', sense=pulp.LpMinimize)\n",
    "        \n",
    "        var = [[pulp.LpVariable(f'x{i}_{j}', cat=pulp.LpBinary) for j in range(col)] for i in range(row)]\n",
    "\n",
    "        flatten = lambda x: [y for l in x for y in flatten(l)] if type(x) is list else [x]\n",
    "\n",
    "        prob += pulp.lpDot(flatten(var), self.c.flatten())\n",
    "\n",
    "        for i in range(row):\n",
    "            prob += (pulp.lpDot(pulp.lpSum(var[i]),self.S) <= self.T[i])\n",
    "\n",
    "        for j in range(col):\n",
    "            prob += (pulp.lpDot([var[i][j] for i in range(row)], [1]*row) == 1)\n",
    "        pulp.LpSolverDefault.msg = 1\n",
    "        prob.solve()\n",
    "        self.opt_val = round(pulp.value(prob.objective),2)\n",
    "        self.opt_x = pd.DataFrame([[pulp.value(var[i][j]) for j in range(col)] for i in range(row)])\n",
    "        #输出说明：\n",
    "        #opt_val为最低运输距离\n",
    "        #opt_x为最优运输方式，格式为row（饲料厂数）*col（养殖场数）的0-1矩阵。x[i,j]代表第i间饲料厂是否给第j间养殖场配送饲料\n",
    "        \n",
    "#部分数据测试及结果"
   ]
  },
  {
   "cell_type": "markdown",
   "metadata": {},
   "source": [
    "# 算法测试部分"
   ]
  },
  {
   "cell_type": "code",
   "execution_count": 4,
   "metadata": {},
   "outputs": [],
   "source": [
    "#加载使用的package以及读取相关文件\n",
    "#测试2020年1月份数据\n",
    "import pulp\n",
    "import numpy as np\n",
    "import pandas as pd\n",
    "月份 = '2020-01'\n",
    "距离矩阵 = pd.read_excel('Data1.xlsx')\n",
    "养殖场 = pd.read_csv('Data2.csv',encoding = 'gbk')\n",
    "饲料厂 = pd.read_excel('Data3.xlsx')\n",
    "距离矩阵 = 距离矩阵[['FieldName','FeedName','FDistance']]\n",
    "距离矩阵 = 距离矩阵.rename(columns = {'FieldName':'养殖场','FeedName' : '饲料厂', 'FDistance' : '距离'})\n",
    "养殖场 = 养殖场[养殖场.月份 == 月份][['场区名称','日需求量']]\n",
    "养殖场 = 养殖场.rename(columns = {'场区名称':'养殖场'})\n",
    "饲料厂 =饲料厂[['FProjectName','FScaleAmount']]\n",
    "饲料厂 = 饲料厂.rename(columns = {'FProjectName':'饲料厂','FScaleAmount':'产能'}).dropna()"
   ]
  },
  {
   "cell_type": "code",
   "execution_count": 7,
   "metadata": {},
   "outputs": [
    {
     "data": {
      "text/plain": [
       "0"
      ]
     },
     "execution_count": 7,
     "metadata": {},
     "output_type": "execute_result"
    }
   ],
   "source": [
    "#查看缺失值\n",
    "养殖场.日需求量.isnull().sum()\n",
    "饲料厂.产能.isnull().sum()"
   ]
  },
  {
   "cell_type": "raw",
   "metadata": {},
   "source": [
    "养殖场产量数据及饲料厂产能数据完整 无缺失"
   ]
  },
  {
   "cell_type": "code",
   "execution_count": 9,
   "metadata": {},
   "outputs": [],
   "source": [
    "#获得用来制作矩阵的pivot table\n",
    "data = pd.merge(距离矩阵,养殖场,how = 'inner',on = '养殖场')\n",
    "data = pd.merge(data,饲料厂,how = 'inner', on = '饲料厂')"
   ]
  },
  {
   "cell_type": "code",
   "execution_count": 33,
   "metadata": {},
   "outputs": [
    {
     "name": "stdout",
     "output_type": "stream",
     "text": [
      "Index(['颍上2场'], dtype='object', name='养殖场') Index(['万荣饲料厂1厂'], dtype='object', name='饲料厂')\n"
     ]
    }
   ],
   "source": [
    "df1 = pd.pivot_table(data,index=['养殖场'],columns = ['饲料厂'],values = '距离')\n",
    "print(df1.index[np.where(np.isnan(df1))[0]], df1.columns[np.where(np.isnan(df1))[1]])\n",
    "#缺失颍上2场到万荣饲料厂1厂 的距离。这个数字在测试阶段我选择随机填写为500公里\n",
    "#在这里也可以选择删掉所有和'颍上2场'或与'万荣饲料厂1厂'有关的数据\n",
    "#如果爬虫获得的数据完整这里应该没有缺失值"
   ]
  },
  {
   "cell_type": "markdown",
   "metadata": {},
   "source": [
    "如果距离不完整，算法程序会报错。\n",
    "这里因为缺少了颍上2场到万荣饲料厂1厂的距离，制作的pivot table里关于颍上2场的日需求量需要手动填写"
   ]
  },
  {
   "cell_type": "code",
   "execution_count": 48,
   "metadata": {},
   "outputs": [
    {
     "name": "stdout",
     "output_type": "stream",
     "text": [
      "Index(['颍上2场'], dtype='object', name='养殖场')\n"
     ]
    }
   ],
   "source": [
    "df2 = pd.pivot_table(data,index=['养殖场'],columns = ['饲料厂'],values = '日需求量')\n",
    "print(df2.index[np.where(np.isnan(df2))[0]])\n",
    "#print(df2.iloc['颍上2场']"
   ]
  },
  {
   "cell_type": "code",
   "execution_count": 49,
   "metadata": {},
   "outputs": [
    {
     "name": "stdout",
     "output_type": "stream",
     "text": [
      "Index(['万荣饲料厂1厂'], dtype='object', name='饲料厂')\n"
     ]
    }
   ],
   "source": [
    "df3 = pd.pivot_table(data,index=['养殖场'],columns = ['饲料厂'],values = '产能')\n",
    "print(df3.columns[np.where(np.isnan(df3))[1]])"
   ]
  },
  {
   "cell_type": "code",
   "execution_count": 63,
   "metadata": {
    "scrolled": true
   },
   "outputs": [],
   "source": [
    "#获得距离矩阵，填补缺失值\n",
    "l = np.array(df1)\n",
    "S = np.array(df2.iloc[:,0])\n",
    "T = np.array(df3.iloc[0,:])*10000/330\n",
    "#pd.pivot_table(df,index=[u'对手',u'主客场'])"
   ]
  },
  {
   "cell_type": "code",
   "execution_count": 64,
   "metadata": {},
   "outputs": [],
   "source": [
    "#手动填写错漏的数据\n",
    "养殖场[养殖场['养殖场'] == '颍上2场']\n",
    "S[350] = 50.67\n",
    "l[350,0] = 500000"
   ]
  },
  {
   "cell_type": "code",
   "execution_count": 65,
   "metadata": {
    "scrolled": true
   },
   "outputs": [
    {
     "name": "stderr",
     "output_type": "stream",
     "text": [
      "E:\\jupyter\\lib\\site-packages\\ipykernel_launcher.py:2: DeprecationWarning: time.clock has been deprecated in Python 3.3 and will be removed from Python 3.8: use time.perf_counter or time.process_time instead\n",
      "  \n"
     ]
    },
    {
     "name": "stdout",
     "output_type": "stream",
     "text": [
      "最低运输距离为： 9335872.0\n",
      "最优供给关系为： \n",
      "      0    1    2    3    4    5    6    7    8    9    ...  362  363  364  \\\n",
      "0    0.0  0.0  0.0  0.0  0.0  0.0  0.0  0.0  0.0  0.0  ...  0.0  0.0  0.0   \n",
      "1    0.0  0.0  0.0  0.0  0.0  0.0  0.0  0.0  0.0  0.0  ...  0.0  0.0  0.0   \n",
      "2    0.0  0.0  0.0  0.0  0.0  0.0  0.0  0.0  0.0  0.0  ...  0.0  0.0  0.0   \n",
      "3    0.0  0.0  0.0  0.0  0.0  1.0  0.0  0.0  0.0  0.0  ...  0.0  0.0  0.0   \n",
      "4    0.0  0.0  0.0  0.0  0.0  0.0  0.0  0.0  0.0  0.0  ...  0.0  0.0  0.0   \n",
      "5    0.0  0.0  0.0  0.0  0.0  0.0  0.0  0.0  0.0  0.0  ...  0.0  0.0  0.0   \n",
      "6    0.0  0.0  0.0  0.0  0.0  0.0  0.0  0.0  0.0  0.0  ...  0.0  0.0  0.0   \n",
      "7    0.0  0.0  0.0  0.0  0.0  0.0  0.0  0.0  0.0  0.0  ...  0.0  0.0  0.0   \n",
      "8    0.0  0.0  0.0  0.0  0.0  0.0  0.0  0.0  0.0  0.0  ...  0.0  0.0  0.0   \n",
      "9    0.0  0.0  0.0  0.0  0.0  0.0  0.0  0.0  0.0  0.0  ...  0.0  0.0  0.0   \n",
      "10   0.0  0.0  0.0  0.0  1.0  0.0  0.0  0.0  0.0  0.0  ...  0.0  0.0  0.0   \n",
      "11   0.0  0.0  0.0  0.0  0.0  0.0  0.0  0.0  0.0  0.0  ...  0.0  1.0  1.0   \n",
      "12   0.0  0.0  0.0  0.0  0.0  0.0  0.0  0.0  0.0  0.0  ...  0.0  0.0  0.0   \n",
      "13   0.0  0.0  0.0  0.0  0.0  0.0  0.0  0.0  0.0  0.0  ...  0.0  0.0  0.0   \n",
      "14   0.0  0.0  0.0  0.0  0.0  0.0  0.0  0.0  0.0  0.0  ...  0.0  0.0  0.0   \n",
      "15   0.0  0.0  0.0  0.0  0.0  0.0  0.0  0.0  0.0  0.0  ...  0.0  0.0  0.0   \n",
      "16   0.0  0.0  0.0  0.0  0.0  0.0  0.0  0.0  0.0  0.0  ...  0.0  0.0  0.0   \n",
      "17   0.0  0.0  0.0  0.0  0.0  0.0  0.0  0.0  0.0  0.0  ...  1.0  0.0  0.0   \n",
      "18   0.0  0.0  0.0  0.0  0.0  0.0  0.0  0.0  0.0  0.0  ...  0.0  0.0  0.0   \n",
      "19   0.0  0.0  0.0  0.0  0.0  0.0  0.0  0.0  0.0  0.0  ...  0.0  0.0  0.0   \n",
      "20   0.0  0.0  0.0  0.0  0.0  0.0  0.0  0.0  0.0  0.0  ...  0.0  0.0  0.0   \n",
      "21   0.0  0.0  0.0  0.0  0.0  0.0  0.0  0.0  0.0  0.0  ...  0.0  0.0  0.0   \n",
      "22   0.0  0.0  0.0  0.0  0.0  0.0  0.0  0.0  0.0  0.0  ...  0.0  0.0  0.0   \n",
      "23   0.0  0.0  0.0  0.0  0.0  0.0  0.0  0.0  0.0  0.0  ...  0.0  0.0  0.0   \n",
      "24   0.0  0.0  0.0  0.0  0.0  0.0  0.0  0.0  0.0  0.0  ...  0.0  0.0  0.0   \n",
      "25   0.0  0.0  0.0  0.0  0.0  0.0  0.0  0.0  0.0  0.0  ...  0.0  0.0  0.0   \n",
      "26   0.0  0.0  0.0  0.0  0.0  0.0  0.0  0.0  0.0  0.0  ...  0.0  0.0  0.0   \n",
      "27   0.0  0.0  0.0  0.0  0.0  0.0  0.0  0.0  0.0  0.0  ...  0.0  0.0  0.0   \n",
      "28   0.0  0.0  0.0  0.0  0.0  0.0  0.0  0.0  0.0  0.0  ...  0.0  0.0  0.0   \n",
      "29   0.0  0.0  0.0  0.0  0.0  0.0  0.0  0.0  0.0  0.0  ...  0.0  0.0  0.0   \n",
      "..   ...  ...  ...  ...  ...  ...  ...  ...  ...  ...  ...  ...  ...  ...   \n",
      "87   0.0  0.0  0.0  0.0  0.0  0.0  0.0  0.0  0.0  0.0  ...  0.0  0.0  0.0   \n",
      "88   0.0  0.0  0.0  0.0  0.0  0.0  0.0  0.0  0.0  0.0  ...  0.0  0.0  0.0   \n",
      "89   0.0  0.0  0.0  0.0  0.0  0.0  0.0  0.0  0.0  0.0  ...  0.0  0.0  0.0   \n",
      "90   0.0  0.0  0.0  0.0  0.0  0.0  0.0  0.0  0.0  0.0  ...  0.0  0.0  0.0   \n",
      "91   0.0  0.0  0.0  0.0  0.0  0.0  0.0  0.0  0.0  0.0  ...  0.0  0.0  0.0   \n",
      "92   0.0  0.0  0.0  0.0  0.0  0.0  0.0  0.0  0.0  0.0  ...  0.0  0.0  0.0   \n",
      "93   0.0  0.0  0.0  0.0  0.0  0.0  0.0  0.0  0.0  0.0  ...  0.0  0.0  0.0   \n",
      "94   0.0  0.0  0.0  0.0  0.0  0.0  0.0  0.0  0.0  0.0  ...  0.0  0.0  0.0   \n",
      "95   0.0  0.0  0.0  0.0  0.0  0.0  0.0  0.0  0.0  0.0  ...  0.0  0.0  0.0   \n",
      "96   0.0  0.0  0.0  0.0  0.0  0.0  0.0  0.0  0.0  0.0  ...  0.0  0.0  0.0   \n",
      "97   0.0  0.0  0.0  0.0  0.0  0.0  0.0  0.0  0.0  0.0  ...  0.0  0.0  0.0   \n",
      "98   0.0  0.0  0.0  0.0  0.0  0.0  0.0  0.0  0.0  0.0  ...  0.0  0.0  0.0   \n",
      "99   0.0  0.0  0.0  0.0  0.0  0.0  1.0  1.0  0.0  0.0  ...  0.0  0.0  0.0   \n",
      "100  0.0  0.0  0.0  0.0  0.0  0.0  0.0  0.0  0.0  0.0  ...  0.0  0.0  0.0   \n",
      "101  0.0  0.0  0.0  0.0  0.0  0.0  0.0  0.0  0.0  0.0  ...  0.0  0.0  0.0   \n",
      "102  0.0  0.0  0.0  0.0  0.0  0.0  0.0  0.0  0.0  0.0  ...  0.0  0.0  0.0   \n",
      "103  0.0  0.0  0.0  0.0  0.0  0.0  0.0  0.0  0.0  0.0  ...  0.0  0.0  0.0   \n",
      "104  0.0  0.0  0.0  0.0  0.0  0.0  0.0  0.0  0.0  0.0  ...  0.0  0.0  0.0   \n",
      "105  0.0  1.0  1.0  1.0  0.0  0.0  0.0  0.0  0.0  0.0  ...  0.0  0.0  0.0   \n",
      "106  0.0  0.0  0.0  0.0  0.0  0.0  0.0  0.0  0.0  0.0  ...  0.0  0.0  0.0   \n",
      "107  0.0  0.0  0.0  0.0  0.0  0.0  0.0  0.0  0.0  0.0  ...  0.0  0.0  0.0   \n",
      "108  0.0  0.0  0.0  0.0  0.0  0.0  0.0  0.0  0.0  0.0  ...  0.0  0.0  0.0   \n",
      "109  0.0  0.0  0.0  0.0  0.0  0.0  0.0  0.0  0.0  0.0  ...  0.0  0.0  0.0   \n",
      "110  0.0  0.0  0.0  0.0  0.0  0.0  0.0  0.0  0.0  0.0  ...  0.0  0.0  0.0   \n",
      "111  0.0  0.0  0.0  0.0  0.0  0.0  0.0  0.0  0.0  0.0  ...  0.0  0.0  0.0   \n",
      "112  0.0  0.0  0.0  0.0  0.0  0.0  0.0  0.0  0.0  0.0  ...  0.0  0.0  0.0   \n",
      "113  0.0  0.0  0.0  0.0  0.0  0.0  0.0  0.0  0.0  0.0  ...  0.0  0.0  0.0   \n",
      "114  0.0  0.0  0.0  0.0  0.0  0.0  0.0  0.0  0.0  0.0  ...  0.0  0.0  0.0   \n",
      "115  0.0  0.0  0.0  0.0  0.0  0.0  0.0  0.0  0.0  0.0  ...  0.0  0.0  0.0   \n",
      "116  0.0  0.0  0.0  0.0  0.0  0.0  0.0  0.0  0.0  0.0  ...  0.0  0.0  0.0   \n",
      "\n",
      "     365  366  367  368  369  370  371  \n",
      "0    0.0  0.0  0.0  0.0  0.0  0.0  0.0  \n",
      "1    0.0  0.0  0.0  1.0  0.0  0.0  0.0  \n",
      "2    0.0  0.0  0.0  0.0  0.0  0.0  0.0  \n",
      "3    0.0  0.0  0.0  0.0  0.0  0.0  0.0  \n",
      "4    0.0  0.0  0.0  0.0  0.0  0.0  0.0  \n",
      "5    0.0  0.0  0.0  0.0  0.0  1.0  0.0  \n",
      "6    0.0  0.0  0.0  0.0  0.0  0.0  0.0  \n",
      "7    0.0  0.0  0.0  0.0  0.0  0.0  0.0  \n",
      "8    0.0  0.0  0.0  0.0  0.0  0.0  0.0  \n",
      "9    0.0  0.0  0.0  0.0  0.0  0.0  0.0  \n",
      "10   0.0  0.0  0.0  0.0  0.0  0.0  0.0  \n",
      "11   0.0  0.0  0.0  0.0  0.0  0.0  0.0  \n",
      "12   0.0  0.0  0.0  0.0  0.0  0.0  0.0  \n",
      "13   0.0  0.0  0.0  0.0  0.0  0.0  0.0  \n",
      "14   0.0  0.0  0.0  0.0  0.0  0.0  0.0  \n",
      "15   0.0  0.0  0.0  0.0  0.0  0.0  0.0  \n",
      "16   0.0  0.0  0.0  0.0  0.0  0.0  0.0  \n",
      "17   0.0  0.0  0.0  0.0  0.0  0.0  0.0  \n",
      "18   0.0  0.0  0.0  0.0  0.0  0.0  0.0  \n",
      "19   0.0  0.0  0.0  0.0  0.0  0.0  0.0  \n",
      "20   0.0  0.0  0.0  0.0  0.0  0.0  0.0  \n",
      "21   0.0  0.0  0.0  0.0  0.0  0.0  0.0  \n",
      "22   0.0  0.0  0.0  0.0  0.0  0.0  0.0  \n",
      "23   0.0  0.0  0.0  0.0  0.0  0.0  0.0  \n",
      "24   0.0  0.0  0.0  0.0  0.0  0.0  0.0  \n",
      "25   0.0  0.0  0.0  0.0  0.0  0.0  0.0  \n",
      "26   0.0  0.0  0.0  0.0  0.0  0.0  0.0  \n",
      "27   0.0  0.0  0.0  0.0  0.0  0.0  0.0  \n",
      "28   0.0  0.0  0.0  0.0  0.0  0.0  0.0  \n",
      "29   0.0  0.0  0.0  0.0  0.0  0.0  0.0  \n",
      "..   ...  ...  ...  ...  ...  ...  ...  \n",
      "87   1.0  0.0  0.0  0.0  0.0  0.0  0.0  \n",
      "88   0.0  0.0  0.0  0.0  0.0  0.0  0.0  \n",
      "89   0.0  0.0  0.0  0.0  0.0  0.0  0.0  \n",
      "90   0.0  0.0  0.0  0.0  0.0  0.0  0.0  \n",
      "91   0.0  0.0  0.0  0.0  0.0  0.0  0.0  \n",
      "92   0.0  0.0  0.0  0.0  0.0  0.0  0.0  \n",
      "93   0.0  0.0  0.0  0.0  0.0  0.0  0.0  \n",
      "94   0.0  0.0  0.0  0.0  0.0  0.0  0.0  \n",
      "95   0.0  0.0  0.0  0.0  0.0  0.0  0.0  \n",
      "96   0.0  0.0  0.0  0.0  0.0  0.0  0.0  \n",
      "97   0.0  0.0  0.0  0.0  0.0  0.0  0.0  \n",
      "98   0.0  0.0  0.0  0.0  0.0  0.0  0.0  \n",
      "99   0.0  0.0  0.0  0.0  0.0  0.0  0.0  \n",
      "100  0.0  0.0  0.0  0.0  0.0  0.0  0.0  \n",
      "101  0.0  0.0  0.0  0.0  0.0  0.0  0.0  \n",
      "102  0.0  0.0  0.0  0.0  0.0  0.0  0.0  \n",
      "103  0.0  0.0  0.0  0.0  0.0  0.0  0.0  \n",
      "104  0.0  0.0  0.0  0.0  0.0  0.0  0.0  \n",
      "105  0.0  0.0  0.0  0.0  0.0  0.0  0.0  \n",
      "106  0.0  0.0  0.0  0.0  0.0  0.0  0.0  \n",
      "107  0.0  0.0  0.0  0.0  0.0  0.0  0.0  \n",
      "108  0.0  0.0  0.0  0.0  0.0  0.0  0.0  \n",
      "109  0.0  0.0  0.0  0.0  0.0  0.0  0.0  \n",
      "110  0.0  0.0  0.0  0.0  0.0  0.0  0.0  \n",
      "111  0.0  0.0  0.0  0.0  0.0  0.0  0.0  \n",
      "112  0.0  0.0  0.0  0.0  0.0  0.0  0.0  \n",
      "113  0.0  0.0  0.0  0.0  0.0  0.0  0.0  \n",
      "114  0.0  0.0  0.0  0.0  0.0  0.0  0.0  \n",
      "115  0.0  0.0  0.0  0.0  0.0  0.0  0.0  \n",
      "116  0.0  0.0  0.0  0.0  0.0  0.0  0.0  \n",
      "\n",
      "[117 rows x 372 columns]\n",
      "Time used: 5.6757597000000715\n"
     ]
    },
    {
     "name": "stderr",
     "output_type": "stream",
     "text": [
      "E:\\jupyter\\lib\\site-packages\\ipykernel_launcher.py:7: DeprecationWarning: time.clock has been deprecated in Python 3.3 and will be removed from Python 3.8: use time.perf_counter or time.process_time instead\n",
      "  import sys\n"
     ]
    }
   ],
   "source": [
    "import time\n",
    "start = time.clock()\n",
    "a = ILP(l,T,S)\n",
    "a.solve()\n",
    "print('最低运输距离为：',a.opt_val)\n",
    "print('最优供给关系为：','\\n',a.opt_x)\n",
    "elapsed = (time.clock() - start)\n",
    "print(\"Time used:\",elapsed)\n",
    "#运算时间大概不到6秒， 结果是117*372的矩阵，0代表该饲料厂和养殖场没有供给关系，1代表由该饲料厂供给此养殖场"
   ]
  },
  {
   "cell_type": "code",
   "execution_count": 66,
   "metadata": {},
   "outputs": [],
   "source": [
    "#输出表格\n",
    "S_name = pd.pivot_table(data,index=['养殖场'],columns = ['饲料厂'],values = '日需求量').index\n",
    "T_name = pd.pivot_table(data,index=['养殖场'],columns = ['饲料厂'],values = '产能').columns\n",
    "a.opt_x.columns = S_name\n",
    "a.opt_x.index = T_name\n",
    "a.opt_x.to_csv('result.csv')\n",
    "result = a.opt_x"
   ]
  },
  {
   "cell_type": "code",
   "execution_count": null,
   "metadata": {},
   "outputs": [],
   "source": [
    "# SQL部分，未完成\n",
    "'''import pandas as pd\n",
    "import pymysql\n",
    "# sql 命令\n",
    "sql_cmd1 = \"SELECT * FROM table\"\n",
    "sql_cmd1 = \"SELECT * FROM table\"\n",
    "\n",
    "con = pymysql.connect(host=localhost, user=username, password=password, database=dbname, charset='utf8', use_unicode=True)\n",
    "#df1:养殖场及其需求，注意统一需求的时间，日需求或是月需求\n",
    "df1 = pd.read_sql(sql_cmd1, con)\n",
    "#df2 :饲料厂及其产能\n",
    "df2 = pd.read_sql(sql_cmd2, con)\n",
    "#data: 爬虫出来的距离矩阵\n",
    "data = pd.read_csv('Data1.csv',encoding = 'gbk',sep= '\\t',header = None).iloc[:,[1,5,9]]\n",
    "#测试月份是2020年1月\n",
    "data= pd.merge(data,data_1[data_1['月份']=='2020-01'],how = 'inner', on = '养殖场')\n",
    "data =pd.merge(data,data_2,how = 'inner', on = '饲料厂')'''"
   ]
  }
 ],
 "metadata": {
  "kernelspec": {
   "display_name": "Python 3",
   "language": "python",
   "name": "python3"
  },
  "language_info": {
   "codemirror_mode": {
    "name": "ipython",
    "version": 3
   },
   "file_extension": ".py",
   "mimetype": "text/x-python",
   "name": "python",
   "nbconvert_exporter": "python",
   "pygments_lexer": "ipython3",
   "version": "3.7.3"
  }
 },
 "nbformat": 4,
 "nbformat_minor": 2
}
